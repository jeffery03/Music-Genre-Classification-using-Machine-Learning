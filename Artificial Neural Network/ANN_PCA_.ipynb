{
 "cells": [
  {
   "cell_type": "markdown",
   "metadata": {},
   "source": [
    "# ANN with PCA"
   ]
  },
  {
   "cell_type": "code",
   "execution_count": 1,
   "metadata": {},
   "outputs": [
    {
     "data": {
      "text/html": [
       "<div>\n",
       "<style scoped>\n",
       "    .dataframe tbody tr th:only-of-type {\n",
       "        vertical-align: middle;\n",
       "    }\n",
       "\n",
       "    .dataframe tbody tr th {\n",
       "        vertical-align: top;\n",
       "    }\n",
       "\n",
       "    .dataframe thead th {\n",
       "        text-align: right;\n",
       "    }\n",
       "</style>\n",
       "<table border=\"1\" class=\"dataframe\">\n",
       "  <thead>\n",
       "    <tr style=\"text-align: right;\">\n",
       "      <th></th>\n",
       "      <th>filename</th>\n",
       "      <th>length</th>\n",
       "      <th>chroma_stft_mean</th>\n",
       "      <th>chroma_stft_var</th>\n",
       "      <th>rms_mean</th>\n",
       "      <th>rms_var</th>\n",
       "      <th>spectral_centroid_mean</th>\n",
       "      <th>spectral_centroid_var</th>\n",
       "      <th>spectral_bandwidth_mean</th>\n",
       "      <th>spectral_bandwidth_var</th>\n",
       "      <th>...</th>\n",
       "      <th>mfcc16_var</th>\n",
       "      <th>mfcc17_mean</th>\n",
       "      <th>mfcc17_var</th>\n",
       "      <th>mfcc18_mean</th>\n",
       "      <th>mfcc18_var</th>\n",
       "      <th>mfcc19_mean</th>\n",
       "      <th>mfcc19_var</th>\n",
       "      <th>mfcc20_mean</th>\n",
       "      <th>mfcc20_var</th>\n",
       "      <th>label</th>\n",
       "    </tr>\n",
       "  </thead>\n",
       "  <tbody>\n",
       "    <tr>\n",
       "      <th>0</th>\n",
       "      <td>blues.00000.0.wav</td>\n",
       "      <td>66149</td>\n",
       "      <td>0.335406</td>\n",
       "      <td>0.091048</td>\n",
       "      <td>0.130405</td>\n",
       "      <td>0.003521</td>\n",
       "      <td>1773.065032</td>\n",
       "      <td>167541.630869</td>\n",
       "      <td>1972.744388</td>\n",
       "      <td>117335.771563</td>\n",
       "      <td>...</td>\n",
       "      <td>39.687145</td>\n",
       "      <td>-3.241280</td>\n",
       "      <td>36.488243</td>\n",
       "      <td>0.722209</td>\n",
       "      <td>38.099152</td>\n",
       "      <td>-5.050335</td>\n",
       "      <td>33.618073</td>\n",
       "      <td>-0.243027</td>\n",
       "      <td>43.771767</td>\n",
       "      <td>blues</td>\n",
       "    </tr>\n",
       "    <tr>\n",
       "      <th>1</th>\n",
       "      <td>blues.00000.1.wav</td>\n",
       "      <td>66149</td>\n",
       "      <td>0.343065</td>\n",
       "      <td>0.086147</td>\n",
       "      <td>0.112699</td>\n",
       "      <td>0.001450</td>\n",
       "      <td>1816.693777</td>\n",
       "      <td>90525.690866</td>\n",
       "      <td>2010.051501</td>\n",
       "      <td>65671.875673</td>\n",
       "      <td>...</td>\n",
       "      <td>64.748276</td>\n",
       "      <td>-6.055294</td>\n",
       "      <td>40.677654</td>\n",
       "      <td>0.159015</td>\n",
       "      <td>51.264091</td>\n",
       "      <td>-2.837699</td>\n",
       "      <td>97.030830</td>\n",
       "      <td>5.784063</td>\n",
       "      <td>59.943081</td>\n",
       "      <td>blues</td>\n",
       "    </tr>\n",
       "    <tr>\n",
       "      <th>2</th>\n",
       "      <td>blues.00000.2.wav</td>\n",
       "      <td>66149</td>\n",
       "      <td>0.346815</td>\n",
       "      <td>0.092243</td>\n",
       "      <td>0.132003</td>\n",
       "      <td>0.004620</td>\n",
       "      <td>1788.539719</td>\n",
       "      <td>111407.437613</td>\n",
       "      <td>2084.565132</td>\n",
       "      <td>75124.921716</td>\n",
       "      <td>...</td>\n",
       "      <td>67.336563</td>\n",
       "      <td>-1.768610</td>\n",
       "      <td>28.348579</td>\n",
       "      <td>2.378768</td>\n",
       "      <td>45.717648</td>\n",
       "      <td>-1.938424</td>\n",
       "      <td>53.050835</td>\n",
       "      <td>2.517375</td>\n",
       "      <td>33.105122</td>\n",
       "      <td>blues</td>\n",
       "    </tr>\n",
       "    <tr>\n",
       "      <th>3</th>\n",
       "      <td>blues.00000.3.wav</td>\n",
       "      <td>66149</td>\n",
       "      <td>0.363639</td>\n",
       "      <td>0.086856</td>\n",
       "      <td>0.132565</td>\n",
       "      <td>0.002448</td>\n",
       "      <td>1655.289045</td>\n",
       "      <td>111952.284517</td>\n",
       "      <td>1960.039988</td>\n",
       "      <td>82913.639269</td>\n",
       "      <td>...</td>\n",
       "      <td>47.739452</td>\n",
       "      <td>-3.841155</td>\n",
       "      <td>28.337118</td>\n",
       "      <td>1.218588</td>\n",
       "      <td>34.770935</td>\n",
       "      <td>-3.580352</td>\n",
       "      <td>50.836224</td>\n",
       "      <td>3.630866</td>\n",
       "      <td>32.023678</td>\n",
       "      <td>blues</td>\n",
       "    </tr>\n",
       "    <tr>\n",
       "      <th>4</th>\n",
       "      <td>blues.00000.4.wav</td>\n",
       "      <td>66149</td>\n",
       "      <td>0.335579</td>\n",
       "      <td>0.088129</td>\n",
       "      <td>0.143289</td>\n",
       "      <td>0.001701</td>\n",
       "      <td>1630.656199</td>\n",
       "      <td>79667.267654</td>\n",
       "      <td>1948.503884</td>\n",
       "      <td>60204.020268</td>\n",
       "      <td>...</td>\n",
       "      <td>30.336359</td>\n",
       "      <td>0.664582</td>\n",
       "      <td>45.880913</td>\n",
       "      <td>1.689446</td>\n",
       "      <td>51.363583</td>\n",
       "      <td>-3.392489</td>\n",
       "      <td>26.738789</td>\n",
       "      <td>0.536961</td>\n",
       "      <td>29.146694</td>\n",
       "      <td>blues</td>\n",
       "    </tr>\n",
       "  </tbody>\n",
       "</table>\n",
       "<p>5 rows × 60 columns</p>\n",
       "</div>"
      ],
      "text/plain": [
       "            filename  length  chroma_stft_mean  chroma_stft_var  rms_mean  \\\n",
       "0  blues.00000.0.wav   66149          0.335406         0.091048  0.130405   \n",
       "1  blues.00000.1.wav   66149          0.343065         0.086147  0.112699   \n",
       "2  blues.00000.2.wav   66149          0.346815         0.092243  0.132003   \n",
       "3  blues.00000.3.wav   66149          0.363639         0.086856  0.132565   \n",
       "4  blues.00000.4.wav   66149          0.335579         0.088129  0.143289   \n",
       "\n",
       "    rms_var  spectral_centroid_mean  spectral_centroid_var  \\\n",
       "0  0.003521             1773.065032          167541.630869   \n",
       "1  0.001450             1816.693777           90525.690866   \n",
       "2  0.004620             1788.539719          111407.437613   \n",
       "3  0.002448             1655.289045          111952.284517   \n",
       "4  0.001701             1630.656199           79667.267654   \n",
       "\n",
       "   spectral_bandwidth_mean  spectral_bandwidth_var  ...  mfcc16_var  \\\n",
       "0              1972.744388           117335.771563  ...   39.687145   \n",
       "1              2010.051501            65671.875673  ...   64.748276   \n",
       "2              2084.565132            75124.921716  ...   67.336563   \n",
       "3              1960.039988            82913.639269  ...   47.739452   \n",
       "4              1948.503884            60204.020268  ...   30.336359   \n",
       "\n",
       "   mfcc17_mean  mfcc17_var  mfcc18_mean  mfcc18_var  mfcc19_mean  mfcc19_var  \\\n",
       "0    -3.241280   36.488243     0.722209   38.099152    -5.050335   33.618073   \n",
       "1    -6.055294   40.677654     0.159015   51.264091    -2.837699   97.030830   \n",
       "2    -1.768610   28.348579     2.378768   45.717648    -1.938424   53.050835   \n",
       "3    -3.841155   28.337118     1.218588   34.770935    -3.580352   50.836224   \n",
       "4     0.664582   45.880913     1.689446   51.363583    -3.392489   26.738789   \n",
       "\n",
       "   mfcc20_mean  mfcc20_var  label  \n",
       "0    -0.243027   43.771767  blues  \n",
       "1     5.784063   59.943081  blues  \n",
       "2     2.517375   33.105122  blues  \n",
       "3     3.630866   32.023678  blues  \n",
       "4     0.536961   29.146694  blues  \n",
       "\n",
       "[5 rows x 60 columns]"
      ]
     },
     "execution_count": 1,
     "metadata": {},
     "output_type": "execute_result"
    }
   ],
   "source": [
    "import numpy as np\n",
    "import pandas as pd\n",
    "features_3s = pd.read_csv(\"D:\\My Files\\Documents\\College Docs\\Major Project\\Data/features_3_sec.csv\")\n",
    "features_3s.head()"
   ]
  },
  {
   "cell_type": "code",
   "execution_count": 2,
   "metadata": {},
   "outputs": [],
   "source": [
    "from sklearn.preprocessing import LabelEncoder\n",
    "labelencoder = LabelEncoder()\n",
    "features_3s['label'] = labelencoder.fit_transform(features_3s['label']);"
   ]
  },
  {
   "cell_type": "code",
   "execution_count": 3,
   "metadata": {},
   "outputs": [],
   "source": [
    "X = features_3s.iloc[:,2:-1].values\n",
    "# X\n",
    "y = features_3s.iloc[:, 59].values\n",
    "# y"
   ]
  },
  {
   "cell_type": "code",
   "execution_count": 4,
   "metadata": {},
   "outputs": [],
   "source": [
    "from sklearn.model_selection import train_test_split\n",
    "\n",
    "X_train, X_test, y_train, y_test = train_test_split(X, y, test_size = 0.3, random_state = 0)"
   ]
  },
  {
   "cell_type": "code",
   "execution_count": 5,
   "metadata": {},
   "outputs": [],
   "source": [
    "from sklearn.preprocessing import StandardScaler\n",
    "\n",
    "sc = StandardScaler()\n",
    "\n",
    "X_train = sc.fit_transform(X_train)\n",
    "# X_train\n",
    "X_test = sc.transform(X_test)\n",
    "# X_test"
   ]
  },
  {
   "cell_type": "code",
   "execution_count": 6,
   "metadata": {},
   "outputs": [],
   "source": [
    "from sklearn.decomposition import PCA\n",
    "\n",
    "pca = PCA(n_components = 10)\n",
    "X_train = pca.fit_transform(X_train)\n",
    "X_test = pca.transform(X_test)\n",
    "explained_variance = pca.explained_variance_ratio_"
   ]
  },
  {
   "cell_type": "code",
   "execution_count": 7,
   "metadata": {},
   "outputs": [],
   "source": [
    "from tensorflow.keras.models import Sequential\n",
    "from tensorflow.keras.layers import Dense"
   ]
  },
  {
   "cell_type": "code",
   "execution_count": 32,
   "metadata": {},
   "outputs": [],
   "source": [
    "model = Sequential()"
   ]
  },
  {
   "cell_type": "code",
   "execution_count": 33,
   "metadata": {},
   "outputs": [],
   "source": [
    "model.add(Dense(256, activation=\"relu\"))\n",
    "model.add(Dense(128, activation=\"relu\"))\n",
    "model.add(Dense(64, activation=\"relu\"))\n",
    "model.add(Dense(10, activation=\"softmax\"))"
   ]
  },
  {
   "cell_type": "code",
   "execution_count": 34,
   "metadata": {},
   "outputs": [],
   "source": [
    "model.compile(optimizer=\"adam\", loss=\"sparse_categorical_crossentropy\", metrics=[\"accuracy\"])"
   ]
  },
  {
   "cell_type": "code",
   "execution_count": 35,
   "metadata": {},
   "outputs": [
    {
     "name": "stdout",
     "output_type": "stream",
     "text": [
      "Epoch 1/15\n",
      "70/70 [==============================] - 1s 3ms/step - loss: 1.7850 - accuracy: 0.3538\n",
      "Epoch 2/15\n",
      "70/70 [==============================] - 0s 3ms/step - loss: 1.1604 - accuracy: 0.5740\n",
      "Epoch 3/15\n",
      "70/70 [==============================] - 0s 3ms/step - loss: 1.0138 - accuracy: 0.6389\n",
      "Epoch 4/15\n",
      "70/70 [==============================] - 0s 3ms/step - loss: 0.9647 - accuracy: 0.6509\n",
      "Epoch 5/15\n",
      "70/70 [==============================] - 0s 3ms/step - loss: 0.8911 - accuracy: 0.6750\n",
      "Epoch 6/15\n",
      "70/70 [==============================] - 0s 6ms/step - loss: 0.8345 - accuracy: 0.7043\n",
      "Epoch 7/15\n",
      "70/70 [==============================] - 0s 6ms/step - loss: 0.8019 - accuracy: 0.7132\n",
      "Epoch 8/15\n",
      "70/70 [==============================] - 0s 6ms/step - loss: 0.7408 - accuracy: 0.7332\n",
      "Epoch 9/15\n",
      "70/70 [==============================] - 0s 6ms/step - loss: 0.7076 - accuracy: 0.7467\n",
      "Epoch 10/15\n",
      "70/70 [==============================] - 0s 6ms/step - loss: 0.6829 - accuracy: 0.7570\n",
      "Epoch 11/15\n",
      "70/70 [==============================] - 0s 6ms/step - loss: 0.6598 - accuracy: 0.7693\n",
      "Epoch 12/15\n",
      "70/70 [==============================] - 0s 6ms/step - loss: 0.6174 - accuracy: 0.7834\n",
      "Epoch 13/15\n",
      "70/70 [==============================] - 0s 6ms/step - loss: 0.6141 - accuracy: 0.7867\n",
      "Epoch 14/15\n",
      "70/70 [==============================] - 0s 6ms/step - loss: 0.5854 - accuracy: 0.7878\n",
      "Epoch 15/15\n",
      "70/70 [==============================] - 0s 6ms/step - loss: 0.5616 - accuracy: 0.8011\n"
     ]
    }
   ],
   "source": [
    "model_history_adam = model.fit(X_train, y_train, epochs=15, batch_size=100, verbose=True)"
   ]
  },
  {
   "cell_type": "code",
   "execution_count": 14,
   "metadata": {},
   "outputs": [],
   "source": [
    "model.compile(optimizer=\"rmsprop\", loss=\"sparse_categorical_crossentropy\", metrics=[\"accuracy\"])"
   ]
  },
  {
   "cell_type": "code",
   "execution_count": 15,
   "metadata": {},
   "outputs": [
    {
     "name": "stdout",
     "output_type": "stream",
     "text": [
      "Epoch 1/15\n",
      "70/70 [==============================] - 1s 2ms/step - loss: 1.6630 - accuracy: 0.4180\n",
      "Epoch 2/15\n",
      "70/70 [==============================] - 0s 2ms/step - loss: 1.1137 - accuracy: 0.5880\n",
      "Epoch 3/15\n",
      "70/70 [==============================] - 0s 2ms/step - loss: 1.0296 - accuracy: 0.6281\n",
      "Epoch 4/15\n",
      "70/70 [==============================] - 0s 3ms/step - loss: 0.9519 - accuracy: 0.6470\n",
      "Epoch 5/15\n",
      "70/70 [==============================] - 0s 5ms/step - loss: 0.9139 - accuracy: 0.6730\n",
      "Epoch 6/15\n",
      "70/70 [==============================] - 0s 4ms/step - loss: 0.8668 - accuracy: 0.6847\n",
      "Epoch 7/15\n",
      "70/70 [==============================] - 0s 4ms/step - loss: 0.8236 - accuracy: 0.7059\n",
      "Epoch 8/15\n",
      "70/70 [==============================] - 0s 3ms/step - loss: 0.7864 - accuracy: 0.7250\n",
      "Epoch 9/15\n",
      "70/70 [==============================] - 0s 3ms/step - loss: 0.7578 - accuracy: 0.7334\n",
      "Epoch 10/15\n",
      "70/70 [==============================] - 0s 4ms/step - loss: 0.7236 - accuracy: 0.7474\n",
      "Epoch 11/15\n",
      "70/70 [==============================] - 0s 4ms/step - loss: 0.6974 - accuracy: 0.7451\n",
      "Epoch 12/15\n",
      "70/70 [==============================] - 0s 5ms/step - loss: 0.6679 - accuracy: 0.7711\n",
      "Epoch 13/15\n",
      "70/70 [==============================] - 0s 4ms/step - loss: 0.6636 - accuracy: 0.7642\n",
      "Epoch 14/15\n",
      "70/70 [==============================] - 0s 4ms/step - loss: 0.6512 - accuracy: 0.7609\n",
      "Epoch 15/15\n",
      "70/70 [==============================] - 0s 4ms/step - loss: 0.6264 - accuracy: 0.7805\n"
     ]
    }
   ],
   "source": [
    "model_history_rmsprop = model.fit(X_train, y_train, epochs=15, batch_size=100, verbose=True)"
   ]
  },
  {
   "cell_type": "code",
   "execution_count": 18,
   "metadata": {},
   "outputs": [],
   "source": [
    "model.compile(optimizer=\"sgd\", loss=\"sparse_categorical_crossentropy\", metrics=[\"accuracy\"])"
   ]
  },
  {
   "cell_type": "code",
   "execution_count": 19,
   "metadata": {},
   "outputs": [
    {
     "name": "stdout",
     "output_type": "stream",
     "text": [
      "Epoch 1/15\n",
      "70/70 [==============================] - 1s 2ms/step - loss: 2.2357 - accuracy: 0.1622\n",
      "Epoch 2/15\n",
      "70/70 [==============================] - 0s 3ms/step - loss: 1.9181 - accuracy: 0.3555\n",
      "Epoch 3/15\n",
      "70/70 [==============================] - 0s 3ms/step - loss: 1.6871 - accuracy: 0.4162\n",
      "Epoch 4/15\n",
      "70/70 [==============================] - 0s 3ms/step - loss: 1.5618 - accuracy: 0.4477\n",
      "Epoch 5/15\n",
      "70/70 [==============================] - 0s 5ms/step - loss: 1.4638 - accuracy: 0.4875\n",
      "Epoch 6/15\n",
      "70/70 [==============================] - 0s 5ms/step - loss: 1.4016 - accuracy: 0.5053\n",
      "Epoch 7/15\n",
      "70/70 [==============================] - 0s 5ms/step - loss: 1.3452 - accuracy: 0.5116\n",
      "Epoch 8/15\n",
      "70/70 [==============================] - 0s 3ms/step - loss: 1.3019 - accuracy: 0.5263\n",
      "Epoch 9/15\n",
      "70/70 [==============================] - 0s 4ms/step - loss: 1.2520 - accuracy: 0.5493\n",
      "Epoch 10/15\n",
      "70/70 [==============================] - 0s 5ms/step - loss: 1.2369 - accuracy: 0.5532\n",
      "Epoch 11/15\n",
      "70/70 [==============================] - 0s 5ms/step - loss: 1.2048 - accuracy: 0.5653\n",
      "Epoch 12/15\n",
      "70/70 [==============================] - 0s 5ms/step - loss: 1.2061 - accuracy: 0.5633\n",
      "Epoch 13/15\n",
      "70/70 [==============================] - 0s 5ms/step - loss: 1.1896 - accuracy: 0.5705\n",
      "Epoch 14/15\n",
      "70/70 [==============================] - 0s 6ms/step - loss: 1.1671 - accuracy: 0.5785\n",
      "Epoch 15/15\n",
      "70/70 [==============================] - 0s 6ms/step - loss: 1.1686 - accuracy: 0.5745\n"
     ]
    }
   ],
   "source": [
    "model_history_sgd = model.fit(X_train, y_train, epochs=15, batch_size=100, verbose=True)"
   ]
  },
  {
   "cell_type": "code",
   "execution_count": 22,
   "metadata": {},
   "outputs": [],
   "source": [
    "model.compile(optimizer=\"adagrad\", loss=\"sparse_categorical_crossentropy\", metrics=[\"accuracy\"])"
   ]
  },
  {
   "cell_type": "code",
   "execution_count": 23,
   "metadata": {},
   "outputs": [
    {
     "name": "stdout",
     "output_type": "stream",
     "text": [
      "Epoch 1/15\n",
      "70/70 [==============================] - 1s 3ms/step - loss: 2.3099 - accuracy: 0.1692\n",
      "Epoch 2/15\n",
      "70/70 [==============================] - 0s 3ms/step - loss: 2.2020 - accuracy: 0.2591\n",
      "Epoch 3/15\n",
      "70/70 [==============================] - 0s 3ms/step - loss: 2.1280 - accuracy: 0.2810\n",
      "Epoch 4/15\n",
      "70/70 [==============================] - 0s 3ms/step - loss: 2.0629 - accuracy: 0.3071\n",
      "Epoch 5/15\n",
      "70/70 [==============================] - 0s 3ms/step - loss: 1.9945 - accuracy: 0.3277\n",
      "Epoch 6/15\n",
      "70/70 [==============================] - 0s 4ms/step - loss: 1.9463 - accuracy: 0.3588\n",
      "Epoch 7/15\n",
      "70/70 [==============================] - 0s 4ms/step - loss: 1.8905 - accuracy: 0.3752\n",
      "Epoch 8/15\n",
      "70/70 [==============================] - 0s 5ms/step - loss: 1.8498 - accuracy: 0.3807\n",
      "Epoch 9/15\n",
      "70/70 [==============================] - 0s 5ms/step - loss: 1.7976 - accuracy: 0.4039\n",
      "Epoch 10/15\n",
      "70/70 [==============================] - 0s 5ms/step - loss: 1.7601 - accuracy: 0.4095\n",
      "Epoch 11/15\n",
      "70/70 [==============================] - 0s 3ms/step - loss: 1.6987 - accuracy: 0.4307\n",
      "Epoch 12/15\n",
      "70/70 [==============================] - 0s 3ms/step - loss: 1.6820 - accuracy: 0.4383\n",
      "Epoch 13/15\n",
      "70/70 [==============================] - 0s 3ms/step - loss: 1.6706 - accuracy: 0.4370\n",
      "Epoch 14/15\n",
      "70/70 [==============================] - 0s 4ms/step - loss: 1.6299 - accuracy: 0.4474\n",
      "Epoch 15/15\n",
      "70/70 [==============================] - 0s 5ms/step - loss: 1.6030 - accuracy: 0.4584\n"
     ]
    }
   ],
   "source": [
    "model_history_adagrad = model.fit(X_train, y_train, epochs=15, batch_size=100, verbose=True)"
   ]
  },
  {
   "cell_type": "code",
   "execution_count": 26,
   "metadata": {},
   "outputs": [],
   "source": [
    "model.compile(optimizer=\"adadelta\", loss=\"sparse_categorical_crossentropy\", metrics=[\"accuracy\"])"
   ]
  },
  {
   "cell_type": "code",
   "execution_count": 27,
   "metadata": {},
   "outputs": [
    {
     "name": "stdout",
     "output_type": "stream",
     "text": [
      "Epoch 1/15\n",
      "70/70 [==============================] - 1s 2ms/step - loss: 2.3639 - accuracy: 0.0727\n",
      "Epoch 2/15\n",
      "70/70 [==============================] - 0s 2ms/step - loss: 2.3533 - accuracy: 0.0755\n",
      "Epoch 3/15\n",
      "70/70 [==============================] - 0s 3ms/step - loss: 2.3492 - accuracy: 0.0747\n",
      "Epoch 4/15\n",
      "70/70 [==============================] - 0s 5ms/step - loss: 2.3404 - accuracy: 0.0791\n",
      "Epoch 5/15\n",
      "70/70 [==============================] - 0s 5ms/step - loss: 2.3415 - accuracy: 0.0791\n",
      "Epoch 6/15\n",
      "70/70 [==============================] - 0s 5ms/step - loss: 2.3325 - accuracy: 0.0861\n",
      "Epoch 7/15\n",
      "70/70 [==============================] - 0s 6ms/step - loss: 2.3251 - accuracy: 0.0865\n",
      "Epoch 8/15\n",
      "70/70 [==============================] - 0s 6ms/step - loss: 2.3105 - accuracy: 0.0997\n",
      "Epoch 9/15\n",
      "70/70 [==============================] - 0s 6ms/step - loss: 2.3037 - accuracy: 0.1016\n",
      "Epoch 10/15\n",
      "70/70 [==============================] - 0s 6ms/step - loss: 2.2982 - accuracy: 0.1103\n",
      "Epoch 11/15\n",
      "70/70 [==============================] - 0s 6ms/step - loss: 2.2906 - accuracy: 0.1076\n",
      "Epoch 12/15\n",
      "70/70 [==============================] - 0s 6ms/step - loss: 2.2842 - accuracy: 0.1191\n",
      "Epoch 13/15\n",
      "70/70 [==============================] - 0s 6ms/step - loss: 2.2814 - accuracy: 0.1178\n",
      "Epoch 14/15\n",
      "70/70 [==============================] - 0s 6ms/step - loss: 2.2750 - accuracy: 0.1273\n",
      "Epoch 15/15\n",
      "70/70 [==============================] - 0s 6ms/step - loss: 2.2711 - accuracy: 0.1330\n"
     ]
    }
   ],
   "source": [
    "model_history_adadelta = model.fit(X_train, y_train, epochs=15, batch_size=100, verbose=True)"
   ]
  },
  {
   "cell_type": "code",
   "execution_count": 28,
   "metadata": {},
   "outputs": [],
   "source": [
    "from matplotlib import pyplot as plt"
   ]
  },
  {
   "cell_type": "code",
   "execution_count": 29,
   "metadata": {},
   "outputs": [
    {
     "data": {
      "image/png": "[encoded data removed]",
      "text/plain": [
       "<Figure size 432x288 with 1 Axes>"
      ]
     },
     "metadata": {
      "needs_background": "light"
     },
     "output_type": "display_data"
    }
   ],
   "source": [
    "plt.plot(model_history_adam.history['accuracy'])\n",
    "plt.plot(model_history_rmsprop.history['accuracy'])\n",
    "plt.plot(model_history_sgd.history['accuracy'])\n",
    "plt.plot(model_history_adagrad.history['accuracy'])\n",
    "plt.plot(model_history_adadelta.history['accuracy'])\n",
    "plt.title('model_accuracy')\n",
    "plt.ylabel('accuracy')\n",
    "plt.xlabel('epoch')\n",
    "plt.legend(['adam', 'rmsprop', 'sgd', 'adagrad', 'adadelta'])\n",
    "plt.show()"
   ]
  },
  {
   "cell_type": "code",
   "execution_count": 36,
   "metadata": {},
   "outputs": [
    {
     "name": "stdout",
     "output_type": "stream",
     "text": [
      "94/94 [==============================] - 0s 1ms/step - loss: 0.7544 - accuracy: 0.7394\n"
     ]
    }
   ],
   "source": [
    "test_loss, test_acc = model.evaluate(X_test,y_test)"
   ]
  },
  {
   "cell_type": "code",
   "execution_count": 37,
   "metadata": {},
   "outputs": [
    {
     "data": {
      "text/plain": [
       "0.7394060492515564"
      ]
     },
     "execution_count": 37,
     "metadata": {},
     "output_type": "execute_result"
    }
   ],
   "source": [
    "test_acc"
   ]
  },
  {
   "cell_type": "code",
   "execution_count": null,
   "metadata": {},
   "outputs": [],
   "source": []
  }
 ],
 "metadata": {
  "kernelspec": {
   "display_name": "Python 3",
   "language": "python",
   "name": "python3"
  },
  "language_info": {
   "codemirror_mode": {
    "name": "ipython",
    "version": 3
   },
   "file_extension": ".py",
   "mimetype": "text/x-python",
   "name": "python",
   "nbconvert_exporter": "python",
   "pygments_lexer": "ipython3",
   "version": "3.8.3"
  }
 },
 "nbformat": 4,
 "nbformat_minor": 4
}
